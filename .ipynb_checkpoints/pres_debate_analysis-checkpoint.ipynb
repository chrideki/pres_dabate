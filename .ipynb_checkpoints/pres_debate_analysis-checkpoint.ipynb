{
 "cells": [
  {
   "cell_type": "code",
   "execution_count": 1,
   "metadata": {},
   "outputs": [],
   "source": [
    "import numpy as np\n",
    "import pandas as pd"
   ]
  },
  {
   "cell_type": "code",
   "execution_count": 55,
   "metadata": {},
   "outputs": [],
   "source": [
    "data = pd.read_csv('pres_debate2020.csv')"
   ]
  },
  {
   "cell_type": "code",
   "execution_count": 75,
   "metadata": {},
   "outputs": [],
   "source": [
    "data['speech'] = np.arange(len(data))"
   ]
  },
  {
   "cell_type": "code",
   "execution_count": 76,
   "metadata": {},
   "outputs": [
    {
     "data": {
      "text/html": [
       "<div>\n",
       "<style scoped>\n",
       "    .dataframe tbody tr th:only-of-type {\n",
       "        vertical-align: middle;\n",
       "    }\n",
       "\n",
       "    .dataframe tbody tr th {\n",
       "        vertical-align: top;\n",
       "    }\n",
       "\n",
       "    .dataframe thead th {\n",
       "        text-align: right;\n",
       "    }\n",
       "</style>\n",
       "<table border=\"1\" class=\"dataframe\">\n",
       "  <thead>\n",
       "    <tr style=\"text-align: right;\">\n",
       "      <th></th>\n",
       "      <th>speaker</th>\n",
       "      <th>date</th>\n",
       "      <th>start_time</th>\n",
       "      <th>duration</th>\n",
       "      <th>text</th>\n",
       "      <th>speech</th>\n",
       "    </tr>\n",
       "  </thead>\n",
       "  <tbody>\n",
       "    <tr>\n",
       "      <td>0</td>\n",
       "      <td>Chris Wallace</td>\n",
       "      <td>9/29/20</td>\n",
       "      <td>0:00:00</td>\n",
       "      <td>0:00:50</td>\n",
       "      <td>good evening from the health education campus ...</td>\n",
       "      <td>0</td>\n",
       "    </tr>\n",
       "    <tr>\n",
       "      <td>1</td>\n",
       "      <td>Chris Wallace</td>\n",
       "      <td>9/29/20</td>\n",
       "      <td>0:00:50</td>\n",
       "      <td>0:00:39</td>\n",
       "      <td>this debate is being conducted under health an...</td>\n",
       "      <td>1</td>\n",
       "    </tr>\n",
       "    <tr>\n",
       "      <td>2</td>\n",
       "      <td>Joe Biden</td>\n",
       "      <td>9/29/20</td>\n",
       "      <td>0:01:29</td>\n",
       "      <td>0:00:02</td>\n",
       "      <td>how you doing man</td>\n",
       "      <td>2</td>\n",
       "    </tr>\n",
       "    <tr>\n",
       "      <td>3</td>\n",
       "      <td>Donald Trump</td>\n",
       "      <td>9/29/20</td>\n",
       "      <td>0:01:31</td>\n",
       "      <td>0:00:00</td>\n",
       "      <td>how are you doing</td>\n",
       "      <td>3</td>\n",
       "    </tr>\n",
       "    <tr>\n",
       "      <td>4</td>\n",
       "      <td>Joe Biden</td>\n",
       "      <td>9/29/20</td>\n",
       "      <td>0:01:31</td>\n",
       "      <td>0:00:20</td>\n",
       "      <td>i'm well</td>\n",
       "      <td>4</td>\n",
       "    </tr>\n",
       "  </tbody>\n",
       "</table>\n",
       "</div>"
      ],
      "text/plain": [
       "         speaker     date start_time duration  \\\n",
       "0  Chris Wallace  9/29/20    0:00:00  0:00:50   \n",
       "1  Chris Wallace  9/29/20    0:00:50  0:00:39   \n",
       "2      Joe Biden  9/29/20    0:01:29  0:00:02   \n",
       "3   Donald Trump  9/29/20    0:01:31  0:00:00   \n",
       "4      Joe Biden  9/29/20    0:01:31  0:00:20   \n",
       "\n",
       "                                                text  speech  \n",
       "0  good evening from the health education campus ...       0  \n",
       "1  this debate is being conducted under health an...       1  \n",
       "2                                  how you doing man       2  \n",
       "3                                  how are you doing       3  \n",
       "4                                           i'm well       4  "
      ]
     },
     "execution_count": 76,
     "metadata": {},
     "output_type": "execute_result"
    }
   ],
   "source": [
    "data.head()"
   ]
  },
  {
   "cell_type": "code",
   "execution_count": 57,
   "metadata": {},
   "outputs": [],
   "source": [
    "data.loc[data['speaker'] == 'Chris Wallace:', 'speaker'] = 'Chris Wallace' \n",
    "data.loc[data['speaker'] == 'President Donal...:', 'speaker'] = 'Donald Trump'\n",
    "data.loc[data['speaker'] == 'Vice President ...:', 'speaker'] = 'Joe Biden' "
   ]
  },
  {
   "cell_type": "code",
   "execution_count": 58,
   "metadata": {},
   "outputs": [
    {
     "data": {
      "text/html": [
       "<div>\n",
       "<style scoped>\n",
       "    .dataframe tbody tr th:only-of-type {\n",
       "        vertical-align: middle;\n",
       "    }\n",
       "\n",
       "    .dataframe tbody tr th {\n",
       "        vertical-align: top;\n",
       "    }\n",
       "\n",
       "    .dataframe thead th {\n",
       "        text-align: right;\n",
       "    }\n",
       "</style>\n",
       "<table border=\"1\" class=\"dataframe\">\n",
       "  <thead>\n",
       "    <tr style=\"text-align: right;\">\n",
       "      <th></th>\n",
       "      <th>speaker</th>\n",
       "      <th>date</th>\n",
       "      <th>start_time</th>\n",
       "      <th>duration</th>\n",
       "      <th>text</th>\n",
       "    </tr>\n",
       "  </thead>\n",
       "  <tbody>\n",
       "    <tr>\n",
       "      <td>0</td>\n",
       "      <td>Chris Wallace</td>\n",
       "      <td>9/29/20</td>\n",
       "      <td>0:00:00</td>\n",
       "      <td>0:00:50</td>\n",
       "      <td>Good evening from the Health Education Campus ...</td>\n",
       "    </tr>\n",
       "    <tr>\n",
       "      <td>1</td>\n",
       "      <td>Chris Wallace</td>\n",
       "      <td>9/29/20</td>\n",
       "      <td>0:00:50</td>\n",
       "      <td>0:00:39</td>\n",
       "      <td>This debate is being conducted under health an...</td>\n",
       "    </tr>\n",
       "    <tr>\n",
       "      <td>2</td>\n",
       "      <td>Joe Biden</td>\n",
       "      <td>9/29/20</td>\n",
       "      <td>0:01:29</td>\n",
       "      <td>0:00:02</td>\n",
       "      <td>How you doing, man?</td>\n",
       "    </tr>\n",
       "    <tr>\n",
       "      <td>3</td>\n",
       "      <td>Donald Trump</td>\n",
       "      <td>9/29/20</td>\n",
       "      <td>0:01:31</td>\n",
       "      <td>0:00:00</td>\n",
       "      <td>How are you doing?</td>\n",
       "    </tr>\n",
       "    <tr>\n",
       "      <td>4</td>\n",
       "      <td>Joe Biden</td>\n",
       "      <td>9/29/20</td>\n",
       "      <td>0:01:31</td>\n",
       "      <td>0:00:20</td>\n",
       "      <td>I'm well.</td>\n",
       "    </tr>\n",
       "  </tbody>\n",
       "</table>\n",
       "</div>"
      ],
      "text/plain": [
       "         speaker     date start_time duration  \\\n",
       "0  Chris Wallace  9/29/20    0:00:00  0:00:50   \n",
       "1  Chris Wallace  9/29/20    0:00:50  0:00:39   \n",
       "2      Joe Biden  9/29/20    0:01:29  0:00:02   \n",
       "3   Donald Trump  9/29/20    0:01:31  0:00:00   \n",
       "4      Joe Biden  9/29/20    0:01:31  0:00:20   \n",
       "\n",
       "                                                text  \n",
       "0  Good evening from the Health Education Campus ...  \n",
       "1  This debate is being conducted under health an...  \n",
       "2                                How you doing, man?  \n",
       "3                                 How are you doing?  \n",
       "4                                          I'm well.  "
      ]
     },
     "execution_count": 58,
     "metadata": {},
     "output_type": "execute_result"
    }
   ],
   "source": [
    "data.head()"
   ]
  },
  {
   "cell_type": "code",
   "execution_count": 99,
   "metadata": {},
   "outputs": [],
   "source": [
    "data.to_csv ('pres_debate.csv', index = False, header=True)"
   ]
  },
  {
   "cell_type": "code",
   "execution_count": 122,
   "metadata": {},
   "outputs": [
    {
     "name": "stderr",
     "output_type": "stream",
     "text": [
      "/opt/anaconda3/lib/python3.7/site-packages/ipykernel_launcher.py:7: SettingWithCopyWarning: \n",
      "A value is trying to be set on a copy of a slice from a DataFrame\n",
      "\n",
      "See the caveats in the documentation: http://pandas.pydata.org/pandas-docs/stable/user_guide/indexing.html#returning-a-view-versus-a-copy\n",
      "  import sys\n"
     ]
    },
    {
     "data": {
      "text/html": [
       "<div>\n",
       "<style scoped>\n",
       "    .dataframe tbody tr th:only-of-type {\n",
       "        vertical-align: middle;\n",
       "    }\n",
       "\n",
       "    .dataframe tbody tr th {\n",
       "        vertical-align: top;\n",
       "    }\n",
       "\n",
       "    .dataframe thead th {\n",
       "        text-align: right;\n",
       "    }\n",
       "</style>\n",
       "<table border=\"1\" class=\"dataframe\">\n",
       "  <thead>\n",
       "    <tr style=\"text-align: right;\">\n",
       "      <th></th>\n",
       "      <th>speaker</th>\n",
       "      <th>date</th>\n",
       "      <th>start_time</th>\n",
       "      <th>duration</th>\n",
       "      <th>text</th>\n",
       "      <th>speech</th>\n",
       "    </tr>\n",
       "  </thead>\n",
       "  <tbody>\n",
       "    <tr>\n",
       "      <td>0</td>\n",
       "      <td>Chris Wallace</td>\n",
       "      <td>9/29/20</td>\n",
       "      <td>0:00:00</td>\n",
       "      <td>0:00:50</td>\n",
       "      <td>good evening from the health education campus ...</td>\n",
       "      <td>0</td>\n",
       "    </tr>\n",
       "    <tr>\n",
       "      <td>1</td>\n",
       "      <td>Chris Wallace</td>\n",
       "      <td>9/29/20</td>\n",
       "      <td>0:00:50</td>\n",
       "      <td>0:00:39</td>\n",
       "      <td>this debate is being conducted under health an...</td>\n",
       "      <td>1</td>\n",
       "    </tr>\n",
       "    <tr>\n",
       "      <td>2</td>\n",
       "      <td>Joe Biden</td>\n",
       "      <td>9/29/20</td>\n",
       "      <td>0:01:29</td>\n",
       "      <td>0:00:02</td>\n",
       "      <td>how you doing man</td>\n",
       "      <td>2</td>\n",
       "    </tr>\n",
       "    <tr>\n",
       "      <td>3</td>\n",
       "      <td>Donald Trump</td>\n",
       "      <td>9/29/20</td>\n",
       "      <td>0:01:31</td>\n",
       "      <td>0:00:00</td>\n",
       "      <td>how are you doing</td>\n",
       "      <td>3</td>\n",
       "    </tr>\n",
       "    <tr>\n",
       "      <td>4</td>\n",
       "      <td>Joe Biden</td>\n",
       "      <td>9/29/20</td>\n",
       "      <td>0:01:31</td>\n",
       "      <td>0:00:20</td>\n",
       "      <td>i'm well</td>\n",
       "      <td>4</td>\n",
       "    </tr>\n",
       "  </tbody>\n",
       "</table>\n",
       "</div>"
      ],
      "text/plain": [
       "         speaker     date start_time duration  \\\n",
       "0  Chris Wallace  9/29/20    0:00:00  0:00:50   \n",
       "1  Chris Wallace  9/29/20    0:00:50  0:00:39   \n",
       "2      Joe Biden  9/29/20    0:01:29  0:00:02   \n",
       "3   Donald Trump  9/29/20    0:01:31  0:00:00   \n",
       "4      Joe Biden  9/29/20    0:01:31  0:00:20   \n",
       "\n",
       "                                                text  speech  \n",
       "0  good evening from the health education campus ...       0  \n",
       "1  this debate is being conducted under health an...       1  \n",
       "2                                  how you doing man       2  \n",
       "3                                  how are you doing       3  \n",
       "4                                           i'm well       4  "
      ]
     },
     "execution_count": 122,
     "metadata": {},
     "output_type": "execute_result"
    }
   ],
   "source": [
    "characters = ['?', ',', '.', '\"', ':']\n",
    "\n",
    "for row in range(len(data)):\n",
    "    for c in characters:\n",
    "        text = data['text'][row]\n",
    "        text = text.replace(c, '').lower().strip()\n",
    "        data['text'][row] = text\n",
    "\n",
    "data.head()"
   ]
  },
  {
   "cell_type": "code",
   "execution_count": 123,
   "metadata": {},
   "outputs": [
    {
     "data": {
      "text/html": [
       "<div>\n",
       "<style scoped>\n",
       "    .dataframe tbody tr th:only-of-type {\n",
       "        vertical-align: middle;\n",
       "    }\n",
       "\n",
       "    .dataframe tbody tr th {\n",
       "        vertical-align: top;\n",
       "    }\n",
       "\n",
       "    .dataframe thead th {\n",
       "        text-align: right;\n",
       "    }\n",
       "</style>\n",
       "<table border=\"1\" class=\"dataframe\">\n",
       "  <thead>\n",
       "    <tr style=\"text-align: right;\">\n",
       "      <th></th>\n",
       "      <th>speech</th>\n",
       "      <th>index</th>\n",
       "      <th>word</th>\n",
       "    </tr>\n",
       "  </thead>\n",
       "  <tbody>\n",
       "    <tr>\n",
       "      <td>0</td>\n",
       "      <td>0</td>\n",
       "      <td>0</td>\n",
       "      <td>good</td>\n",
       "    </tr>\n",
       "    <tr>\n",
       "      <td>1</td>\n",
       "      <td>0</td>\n",
       "      <td>1</td>\n",
       "      <td>evening</td>\n",
       "    </tr>\n",
       "    <tr>\n",
       "      <td>2</td>\n",
       "      <td>0</td>\n",
       "      <td>2</td>\n",
       "      <td>from</td>\n",
       "    </tr>\n",
       "    <tr>\n",
       "      <td>3</td>\n",
       "      <td>0</td>\n",
       "      <td>3</td>\n",
       "      <td>the</td>\n",
       "    </tr>\n",
       "    <tr>\n",
       "      <td>4</td>\n",
       "      <td>0</td>\n",
       "      <td>4</td>\n",
       "      <td>health</td>\n",
       "    </tr>\n",
       "    <tr>\n",
       "      <td>...</td>\n",
       "      <td>...</td>\n",
       "      <td>...</td>\n",
       "      <td>...</td>\n",
       "    </tr>\n",
       "    <tr>\n",
       "      <td>195</td>\n",
       "      <td>1</td>\n",
       "      <td>71</td>\n",
       "      <td>importantly</td>\n",
       "    </tr>\n",
       "    <tr>\n",
       "      <td>196</td>\n",
       "      <td>1</td>\n",
       "      <td>72</td>\n",
       "      <td>you</td>\n",
       "    </tr>\n",
       "    <tr>\n",
       "      <td>197</td>\n",
       "      <td>1</td>\n",
       "      <td>73</td>\n",
       "      <td>can</td>\n",
       "    </tr>\n",
       "    <tr>\n",
       "      <td>198</td>\n",
       "      <td>1</td>\n",
       "      <td>74</td>\n",
       "      <td>focus</td>\n",
       "    </tr>\n",
       "    <tr>\n",
       "      <td>199</td>\n",
       "      <td>1</td>\n",
       "      <td>75</td>\n",
       "      <td>on</td>\n",
       "    </tr>\n",
       "  </tbody>\n",
       "</table>\n",
       "<p>200 rows × 3 columns</p>\n",
       "</div>"
      ],
      "text/plain": [
       "     speech  index         word\n",
       "0         0      0         good\n",
       "1         0      1      evening\n",
       "2         0      2         from\n",
       "3         0      3          the\n",
       "4         0      4       health\n",
       "..      ...    ...          ...\n",
       "195       1     71  importantly\n",
       "196       1     72          you\n",
       "197       1     73          can\n",
       "198       1     74        focus\n",
       "199       1     75           on\n",
       "\n",
       "[200 rows x 3 columns]"
      ]
     },
     "execution_count": 123,
     "metadata": {},
     "output_type": "execute_result"
    }
   ],
   "source": [
    "words = pd.DataFrame(columns = ['speech', 'index', 'word'])\n",
    "word = []\n",
    "index = []\n",
    "speech =[]\n",
    "\n",
    "for row in range(len(data)):\n",
    "    text = data['text'][row].split(' ')\n",
    "    sp = data['speech'][row]\n",
    "    i = 0\n",
    "    for t in text:\n",
    "        if tt != '[':\n",
    "            speech.append(sp)\n",
    "            index.append(i)\n",
    "            word.append(t)\n",
    "            i += 1\n",
    "        \n",
    "words['speech'] = speech\n",
    "words['index'] = index\n",
    "words['word'] = word\n",
    "\n",
    "words.head(200)        "
   ]
  },
  {
   "cell_type": "code",
   "execution_count": null,
   "metadata": {},
   "outputs": [],
   "source": []
  },
  {
   "cell_type": "code",
   "execution_count": 125,
   "metadata": {},
   "outputs": [],
   "source": [
    "words.to_csv ('words.csv', index = False, header=True)"
   ]
  },
  {
   "cell_type": "code",
   "execution_count": 124,
   "metadata": {},
   "outputs": [
    {
     "data": {
      "text/plain": [
       "18486"
      ]
     },
     "execution_count": 124,
     "metadata": {},
     "output_type": "execute_result"
    }
   ],
   "source": [
    "len(words)\n",
    "\n",
    "        "
   ]
  },
  {
   "cell_type": "code",
   "execution_count": 127,
   "metadata": {},
   "outputs": [],
   "source": [
    "df = pd.merge(data, words, on = 'speech', how = 'right')"
   ]
  },
  {
   "cell_type": "code",
   "execution_count": 128,
   "metadata": {},
   "outputs": [
    {
     "data": {
      "text/plain": [
       "speaker\n",
       "Chris Wallace    4665\n",
       "Donald Trump     7220\n",
       "Joe Biden        6601\n",
       "Name: word, dtype: int64"
      ]
     },
     "execution_count": 128,
     "metadata": {},
     "output_type": "execute_result"
    }
   ],
   "source": [
    "df.groupby('speaker')['word'].count()"
   ]
  },
  {
   "cell_type": "code",
   "execution_count": 129,
   "metadata": {},
   "outputs": [
    {
     "data": {
      "text/plain": [
       "18486"
      ]
     },
     "execution_count": 129,
     "metadata": {},
     "output_type": "execute_result"
    }
   ],
   "source": [
    "len(df)"
   ]
  },
  {
   "cell_type": "code",
   "execution_count": 130,
   "metadata": {},
   "outputs": [
    {
     "data": {
      "text/plain": [
       "speaker\n",
       "Chris Wallace    1020\n",
       "Donald Trump     1216\n",
       "Joe Biden        1285\n",
       "Name: word, dtype: int64"
      ]
     },
     "execution_count": 130,
     "metadata": {},
     "output_type": "execute_result"
    }
   ],
   "source": [
    "df.groupby('speaker')['word'].nunique()"
   ]
  },
  {
   "cell_type": "code",
   "execution_count": null,
   "metadata": {},
   "outputs": [],
   "source": []
  }
 ],
 "metadata": {
  "kernelspec": {
   "display_name": "Python 3",
   "language": "python",
   "name": "python3"
  },
  "language_info": {
   "codemirror_mode": {
    "name": "ipython",
    "version": 3
   },
   "file_extension": ".py",
   "mimetype": "text/x-python",
   "name": "python",
   "nbconvert_exporter": "python",
   "pygments_lexer": "ipython3",
   "version": "3.7.4"
  }
 },
 "nbformat": 4,
 "nbformat_minor": 4
}
